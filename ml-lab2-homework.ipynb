{
 "cells": [
  {
   "cell_type": "markdown",
   "id": "e6ec7faf-be90-4c01-ac64-608982867d97",
   "metadata": {},
   "source": [
    "## imports"
   ]
  },
  {
   "cell_type": "code",
   "execution_count": 6,
   "id": "bd6dbd10-cade-46cb-b4e2-df6644df7094",
   "metadata": {},
   "outputs": [],
   "source": [
    "from sklearn.datasets import load_iris\n",
    "import numpy as np\n",
    "import pandas as pd\n",
    "from sklearn.model_selection import train_test_split\n",
    "from sklearn.neighbors import KNeighborsClassifier\n",
    "import matplotlib.pyplot as plt"
   ]
  },
  {
   "cell_type": "markdown",
   "id": "05fd2ebf-7029-448e-96e4-479da28fb637",
   "metadata": {},
   "source": [
    "## creating class"
   ]
  },
  {
   "cell_type": "code",
   "execution_count": 105,
   "id": "983cc9d2-aff5-481d-9080-ec347cbb34f2",
   "metadata": {},
   "outputs": [],
   "source": [
    "class DataTrainingClass:\n",
    "    iris_dataset = ''\n",
    "    X_train, X_test, y_train, y_test = '', '', '', ''\n",
    "    iris_dataframe = ''\n",
    "    knn = ''\n",
    "    \n",
    "    def __init__(self, rs = 0, ts = 0.3, neighbours_amount = 1):\n",
    "        self.iris_dataset = load_iris()\n",
    "\n",
    "        self.X_train, self.X_test, self.y_train, self.y_test = train_test_split(self.iris_dataset['data'], self.iris_dataset['target'], random_state = rs, test_size = ts) \n",
    "        self.iris_dataframe = pd.DataFrame(self.X_train, columns = self.iris_dataset.feature_names)\n",
    "\n",
    "        self.knn = KNeighborsClassifier(n_neighbors = neighbours_amount)\n",
    "        \n",
    "    def ViewIrisDataset(self, feature = ''):\n",
    "        if feature == '':\n",
    "            print('\\nIris_dataset: \\n {}'.format(self.iris_dataset))\n",
    "        else:\n",
    "            print(f'Iris_dataset[{feature}]: \\n'+'{}'.format(self.iris_dataset[feature]))\n",
    "        \n",
    "    # def SplitData_SetDataframe(self, rs = 0, ts = 0.3):\n",
    "    #     self.X_train, self.X_test, self.y_train, self.y_test = train_test_split(self.iris_dataset['data'], self.iris_dataset['target'], random_state = rs, test_size = ts) \n",
    "    #     self.iris_dataframe = pd.DataFrame(self.X_train, columns = self.iris_dataset.feature_names)\n",
    "\n",
    "    # def KNeighboursClass(self, neighbours_amount = 1):\n",
    "    #     self.knn = KNeighborsClassifier(n_neighbors = neighbours_amount)\n",
    "\n",
    "    def ViewData(self, data):\n",
    "        print('\\nThe Data: ', data)\n",
    "        \n",
    "    def ViewDataShape(self, data):\n",
    "        print('\\nData Shape', data.shape)\n",
    "\n",
    "    def ViewTabularData(self):\n",
    "        iris_dataframe = pd.DataFrame(self.X_train, columns = self.iris_dataset.feature_names)\n",
    "        return iris_dataframe\n",
    "\n",
    "    def TrainModel(self):\n",
    "        self.knn.fit(self.X_train, self.y_train)\n",
    "\n",
    "    def PredictedData(self):\n",
    "        y_pred = self.knn.predict(self.X_test)\n",
    "        print(\"Predicted Labels: \\n{}\".format(y_pred))\n",
    "    "
   ]
  },
  {
   "cell_type": "code",
   "execution_count": 107,
   "id": "b1d83f65-9e01-4c66-9411-e9b47e797ab6",
   "metadata": {},
   "outputs": [],
   "source": [
    "instance = DataTrainingClass()\n",
    "# instance.ViewIrisDataset('target')\n",
    "# instance.ViewData(instance.X_train)\n",
    "# instance.ViewDataShape(instance.iris_dataset['data'])\n",
    "# instance.ViewTabularData()\n",
    "# instance.TrainModel()\n",
    "# instance.PredictedData()"
   ]
  },
  {
   "cell_type": "code",
   "execution_count": null,
   "id": "5b065b1b-07b7-46ad-b504-77c4e684506c",
   "metadata": {},
   "outputs": [],
   "source": []
  },
  {
   "cell_type": "markdown",
   "id": "2a354f25-c579-4265-abe8-8da986421a49",
   "metadata": {},
   "source": [
    "## testing range of neighbors using for loop"
   ]
  },
  {
   "cell_type": "code",
   "execution_count": 101,
   "id": "143394ae-92df-4348-98e6-8773d621f921",
   "metadata": {},
   "outputs": [
    {
     "name": "stdout",
     "output_type": "stream",
     "text": [
      "[2, 4, 9, 11]\n",
      "\tn_neighbors = 1, [1]\n",
      "\tn_neighbors = 2, [1]\n",
      "\tn_neighbors = 3, [1]\n",
      "\tn_neighbors = 4, [0]\n",
      "\tn_neighbors = 5, [1]\n",
      "\n",
      "\n",
      "[4, 3, 6, 1]\n",
      "\tn_neighbors = 1, [0]\n",
      "\tn_neighbors = 2, [0]\n",
      "\tn_neighbors = 3, [1]\n",
      "\tn_neighbors = 4, [0]\n",
      "\tn_neighbors = 5, [1]\n",
      "\n",
      "\n",
      "[2, 3, 3, 7]\n",
      "\tn_neighbors = 1, [1]\n",
      "\tn_neighbors = 2, [0]\n",
      "\tn_neighbors = 3, [0]\n",
      "\tn_neighbors = 4, [0]\n",
      "\tn_neighbors = 5, [1]\n",
      "\n",
      "\n",
      "[6, 6, 1, 9]\n",
      "\tn_neighbors = 1, [0]\n",
      "\tn_neighbors = 2, [0]\n",
      "\tn_neighbors = 3, [0]\n",
      "\tn_neighbors = 4, [0]\n",
      "\tn_neighbors = 5, [1]\n",
      "\n",
      "\n",
      "[3, 4, 5, 5]\n",
      "\tn_neighbors = 1, [1]\n",
      "\tn_neighbors = 2, [0]\n",
      "\tn_neighbors = 3, [1]\n",
      "\tn_neighbors = 4, [0]\n",
      "\tn_neighbors = 5, [1]\n",
      "\n",
      "\n",
      "[3, 6, 2, 2]\n",
      "\tn_neighbors = 1, [1]\n",
      "\tn_neighbors = 2, [0]\n",
      "\tn_neighbors = 3, [0]\n",
      "\tn_neighbors = 4, [0]\n",
      "\tn_neighbors = 5, [1]\n",
      "\n",
      "\n"
     ]
    }
   ],
   "source": [
    "train_dataset = {\n",
    "    'X_train': [\n",
    "        [1, 4, 3, 10],\n",
    "        [1, 5, 4, 5],\n",
    "        [2, 3, 3, 9],\n",
    "        [2, 4, 2, 9],\n",
    "        [9, 3, 9, 4],\n",
    "        [4, 2, 3, 8],\n",
    "        [7, 1, 9, 3],\n",
    "    ],\n",
    "    'Y_train': [1, 1, 1, 0, 1, 0, 0]\n",
    "}\n",
    "test_dataset = [\n",
    "    [2, 4, 9, 11],\n",
    "    [4, 3, 6, 1],\n",
    "    [2, 3, 3, 7],\n",
    "    [6, 6, 1, 9],\n",
    "    [3, 4, 5, 5],\n",
    "    [3, 6, 2, 2],\n",
    "]\n",
    "\n",
    "for index in range(len(test_dataset)):\n",
    "    print(test_dataset[index])\n",
    "    for i in range(1, 6):\n",
    "        knn = KNeighborsClassifier(n_neighbors = i)\n",
    "        knn.fit(train_dataset['X_train'], train_dataset['Y_train'])\n",
    "\n",
    "        prediction = knn.predict([test_dataset[index]])\n",
    "        print(f'\\tn_neighbors = {i},', prediction)\n",
    "\n",
    "    print('\\n')"
   ]
  },
  {
   "cell_type": "code",
   "execution_count": null,
   "id": "745e9f5c-958c-4237-90aa-2fcde9844a74",
   "metadata": {},
   "outputs": [],
   "source": []
  }
 ],
 "metadata": {
  "kernelspec": {
   "display_name": "Python 3 (ipykernel)",
   "language": "python",
   "name": "python3"
  },
  "language_info": {
   "codemirror_mode": {
    "name": "ipython",
    "version": 3
   },
   "file_extension": ".py",
   "mimetype": "text/x-python",
   "name": "python",
   "nbconvert_exporter": "python",
   "pygments_lexer": "ipython3",
   "version": "3.11.7"
  }
 },
 "nbformat": 4,
 "nbformat_minor": 5
}
